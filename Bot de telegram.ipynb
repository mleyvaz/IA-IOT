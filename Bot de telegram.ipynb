{
 "cells": [
  {
   "cell_type": "markdown",
   "metadata": {},
   "source": [
    "## Bot de telegram"
   ]
  },
  {
   "cell_type": "code",
   "execution_count": 2,
   "metadata": {},
   "outputs": [
    {
     "name": "stdout",
     "output_type": "stream",
     "text": [
      "Collecting telepot\n",
      "  Downloading https://files.pythonhosted.org/packages/f6/a8/0ed945afd8064b850c1653816c16ebda1cf07d65fee228b6d1139a49cbbd/telepot-12.7.tar.gz (73kB)\n",
      "Requirement already satisfied: urllib3>=1.9.1 in c:\\users\\asus\\appdata\\local\\continuum\\anaconda3\\lib\\site-packages (from telepot)\n",
      "Collecting aiohttp>=3.0.0 (from telepot)\n",
      "  Downloading https://files.pythonhosted.org/packages/6b/5b/23e55a7681dc8801b3b6ded1d43da470d293cc2047f2f19d350c65fe8600/aiohttp-3.4.1-cp36-cp36m-win_amd64.whl (576kB)\n",
      "Collecting async-timeout<4.0,>=3.0 (from aiohttp>=3.0.0->telepot)\n",
      "  Downloading https://files.pythonhosted.org/packages/96/0f/e6357458c87fb4ed8f3df215773f3caad40968f10e05552cbd8bd28415e4/async_timeout-3.0.0-py3-none-any.whl\n",
      "Collecting yarl<2.0,>=1.0 (from aiohttp>=3.0.0->telepot)\n",
      "  Downloading https://files.pythonhosted.org/packages/a4/55/56d25a52eb8757a9cc8464489ddd19160378a373fb8725481bbf83193ada/yarl-1.2.6-cp36-cp36m-win_amd64.whl (120kB)\n",
      "Requirement already satisfied: chardet<4.0,>=2.0 in c:\\users\\asus\\appdata\\local\\continuum\\anaconda3\\lib\\site-packages (from aiohttp>=3.0.0->telepot)\n",
      "Collecting idna-ssl>=1.0; python_version < \"3.7\" (from aiohttp>=3.0.0->telepot)\n",
      "  Downloading https://files.pythonhosted.org/packages/46/03/07c4894aae38b0de52b52586b24bf189bb83e4ddabfe2e2c8f2419eec6f4/idna-ssl-1.1.0.tar.gz\n",
      "Collecting multidict<5.0,>=4.0 (from aiohttp>=3.0.0->telepot)\n",
      "  Downloading https://files.pythonhosted.org/packages/59/5c/90af4d839943188318772ddaef2ae8ce323fc3b20916cc27da1d12a1b33b/multidict-4.3.1-cp36-cp36m-win_amd64.whl (193kB)\n",
      "Requirement already satisfied: attrs>=17.3.0 in c:\\users\\asus\\appdata\\local\\continuum\\anaconda3\\lib\\site-packages (from aiohttp>=3.0.0->telepot)\n",
      "Requirement already satisfied: idna>=2.0 in c:\\users\\asus\\appdata\\local\\continuum\\anaconda3\\lib\\site-packages (from yarl<2.0,>=1.0->aiohttp>=3.0.0->telepot)\n",
      "Building wheels for collected packages: telepot, idna-ssl\n",
      "  Running setup.py bdist_wheel for telepot: started\n",
      "  Running setup.py bdist_wheel for telepot: finished with status 'done'\n",
      "  Stored in directory: C:\\Users\\ASUS\\AppData\\Local\\pip\\Cache\\wheels\\65\\17\\50\\983034e27e6b5d8dfc497a51b5b13d970d8018a83f47e6513a\n",
      "  Running setup.py bdist_wheel for idna-ssl: started\n",
      "  Running setup.py bdist_wheel for idna-ssl: finished with status 'done'\n",
      "  Stored in directory: C:\\Users\\ASUS\\AppData\\Local\\pip\\Cache\\wheels\\d3\\00\\b3\\32d613e19e08a739751dd6bf998cfed277728f8b2127ad4eb7\n",
      "Successfully built telepot idna-ssl\n",
      "Installing collected packages: async-timeout, multidict, yarl, idna-ssl, aiohttp, telepot\n",
      "Successfully installed aiohttp-3.4.1 async-timeout-3.0.0 idna-ssl-1.1.0 multidict-4.3.1 telepot-12.7 yarl-1.2.6\n"
     ]
    },
    {
     "name": "stderr",
     "output_type": "stream",
     "text": [
      "You are using pip version 9.0.1, however version 18.0 is available.\n",
      "You should consider upgrading via the 'python -m pip install --upgrade pip' command.\n"
     ]
    }
   ],
   "source": [
    "!pip install telepot"
   ]
  },
  {
   "cell_type": "code",
   "execution_count": null,
   "metadata": {},
   "outputs": [],
   "source": [
    "import time\n",
    "import random\n",
    "import datetime\n",
    "import telepot\n",
    "\n",
    "# Comandos:\n",
    "# /roll - un numero aleatorio del 1 al 6.\n",
    "# /time - tiempo actual.\n",
    "\n",
    "\n",
    "def handle(msg):\n",
    "    chat_id = msg['chat']['id']\n",
    "    command = msg['text']\n",
    "    print ('Comando: %s' % command)\n",
    "    if command == '/roll':\n",
    "        bot.sendMessage(chat_id, random.randint(1,6))\n",
    "    elif command == '/time':\n",
    "        bot.sendMessage(chat_id, str(datetime.datetime.now()))\n",
    "\n",
    "bot = telepot.Bot('Tu token aqui')\n",
    "bot.message_loop(handle)\n",
    "print ('Estoy escuchando ...')\n",
    "\n",
    "while 1:\n",
    "    time.sleep(10)"
   ]
  }
 ],
 "metadata": {
  "kernelspec": {
   "display_name": "Python 3",
   "language": "python",
   "name": "python3"
  },
  "language_info": {
   "codemirror_mode": {
    "name": "ipython",
    "version": 3
   },
   "file_extension": ".py",
   "mimetype": "text/x-python",
   "name": "python",
   "nbconvert_exporter": "python",
   "pygments_lexer": "ipython3",
   "version": "3.6.4"
  }
 },
 "nbformat": 4,
 "nbformat_minor": 2
}
